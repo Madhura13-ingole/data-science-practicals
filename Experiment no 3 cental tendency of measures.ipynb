{
 "cells": [
  {
   "cell_type": "code",
   "execution_count": 7,
   "id": "394b3ee6",
   "metadata": {},
   "outputs": [],
   "source": [
    "#experiment no.3"
   ]
  },
  {
   "cell_type": "code",
   "execution_count": 8,
   "id": "401934d9",
   "metadata": {},
   "outputs": [],
   "source": [
    "#Aim: To perform operation on central tendency of measures"
   ]
  },
  {
   "cell_type": "code",
   "execution_count": 9,
   "id": "d2688132",
   "metadata": {},
   "outputs": [],
   "source": [
    "#Name:Madhura D.Ingole\n",
    "#Roll no :20\n",
    "#sec:A\n",
    "#Sub:ET3\n",
    "#date:4-08-2025"
   ]
  },
  {
   "cell_type": "code",
   "execution_count": 10,
   "id": "fd3c6856",
   "metadata": {},
   "outputs": [],
   "source": [
    "age=[20,20,21,22,25,24]"
   ]
  },
  {
   "cell_type": "code",
   "execution_count": 11,
   "id": "f2a1961b",
   "metadata": {},
   "outputs": [
    {
     "data": {
      "text/plain": [
       "[20, 20, 21, 22, 25, 24]"
      ]
     },
     "execution_count": 11,
     "metadata": {},
     "output_type": "execute_result"
    }
   ],
   "source": [
    "print(age)"
   ]
  },
  {
   "cell_type": "code",
   "execution_count": 12,
   "id": "30d29fca",
   "metadata": {},
   "outputs": [
    {
     "data": {
      "text/plain": [
       "[20, 20, 21, 22, 25, 24]"
      ]
     },
     "execution_count": 12,
     "metadata": {},
     "output_type": "execute_result"
    }
   ],
   "source": [
    "age"
   ]
  },
  {
   "cell_type": "code",
   "execution_count": 19,
   "id": "d53bf6d8",
   "metadata": {},
   "outputs": [],
   "source": [
    "import statistics as stats"
   ]
  },
  {
   "cell_type": "code",
   "execution_count": 14,
   "id": "d1982b31",
   "metadata": {},
   "outputs": [],
   "source": [
    "a=statistics.mean(age)"
   ]
  },
  {
   "cell_type": "code",
   "execution_count": 15,
   "id": "44df3bfa",
   "metadata": {},
   "outputs": [
    {
     "data": {
      "text/plain": [
       "22"
      ]
     },
     "execution_count": 15,
     "metadata": {},
     "output_type": "execute_result"
    }
   ],
   "source": [
    "a"
   ]
  },
  {
   "cell_type": "code",
   "execution_count": 18,
   "id": "0b7b95f3",
   "metadata": {},
   "outputs": [],
   "source": [
    "b=statistics.median(age)"
   ]
  },
  {
   "cell_type": "code",
   "execution_count": 17,
   "id": "d920b81c",
   "metadata": {},
   "outputs": [
    {
     "data": {
      "text/plain": [
       "22"
      ]
     },
     "execution_count": 17,
     "metadata": {},
     "output_type": "execute_result"
    }
   ],
   "source": [
    "b"
   ]
  },
  {
   "cell_type": "code",
   "execution_count": 20,
   "id": "5dfd6647",
   "metadata": {},
   "outputs": [],
   "source": [
    "c=statistics.mode(age)"
   ]
  },
  {
   "cell_type": "code",
   "execution_count": 21,
   "id": "4e853acc",
   "metadata": {},
   "outputs": [
    {
     "data": {
      "text/plain": [
       "20"
      ]
     },
     "execution_count": 21,
     "metadata": {},
     "output_type": "execute_result"
    }
   ],
   "source": [
    "c"
   ]
  },
  {
   "cell_type": "code",
   "execution_count": 22,
   "id": "13ce6121",
   "metadata": {},
   "outputs": [],
   "source": [
    "import numpy as np\n",
    "X=np.array([1,2,3,4,5,6,7,3,4,7,8,4,5,5,6,3,8,9])"
   ]
  },
  {
   "cell_type": "code",
   "execution_count": 23,
   "id": "9db8845b",
   "metadata": {},
   "outputs": [
    {
     "data": {
      "text/plain": [
       "array([1, 2, 3, 4, 5, 6, 7, 3, 4, 7, 8, 4, 5, 5, 6, 3, 8, 9])"
      ]
     },
     "execution_count": 23,
     "metadata": {},
     "output_type": "execute_result"
    }
   ],
   "source": [
    "X"
   ]
  },
  {
   "cell_type": "code",
   "execution_count": 24,
   "id": "a2332d6e",
   "metadata": {},
   "outputs": [
    {
     "name": "stdout",
     "output_type": "stream",
     "text": [
      "5.0\n"
     ]
    }
   ],
   "source": [
    "print(np.mean(X))"
   ]
  },
  {
   "cell_type": "code",
   "execution_count": 25,
   "id": "57a41662",
   "metadata": {},
   "outputs": [
    {
     "name": "stdout",
     "output_type": "stream",
     "text": [
      "5.0\n"
     ]
    }
   ],
   "source": [
    "print(np.median(X))"
   ]
  },
  {
   "cell_type": "code",
   "execution_count": 28,
   "id": "963add1c",
   "metadata": {},
   "outputs": [],
   "source": [
    "from scipy import stats"
   ]
  },
  {
   "cell_type": "code",
   "execution_count": 29,
   "id": "6c6a09f4",
   "metadata": {},
   "outputs": [
    {
     "name": "stdout",
     "output_type": "stream",
     "text": [
      "ModeResult(mode=array([3]), count=array([3]))\n"
     ]
    }
   ],
   "source": [
    "print(stats.mode(X))"
   ]
  },
  {
   "cell_type": "code",
   "execution_count": 31,
   "id": "618587c3",
   "metadata": {},
   "outputs": [
    {
     "name": "stdout",
     "output_type": "stream",
     "text": [
      "2.160246899469287\n"
     ]
    }
   ],
   "source": [
    "print(np.std(X))"
   ]
  },
  {
   "cell_type": "code",
   "execution_count": 32,
   "id": "df1771f5",
   "metadata": {},
   "outputs": [
    {
     "name": "stdout",
     "output_type": "stream",
     "text": [
      "4.666666666666667\n"
     ]
    }
   ],
   "source": [
    "print(np.var(X))"
   ]
  },
  {
   "cell_type": "code",
   "execution_count": null,
   "id": "f832de75",
   "metadata": {},
   "outputs": [],
   "source": []
  }
 ],
 "metadata": {
  "kernelspec": {
   "display_name": "Python 3 (ipykernel)",
   "language": "python",
   "name": "python3"
  },
  "language_info": {
   "codemirror_mode": {
    "name": "ipython",
    "version": 3
   },
   "file_extension": ".py",
   "mimetype": "text/x-python",
   "name": "python",
   "nbconvert_exporter": "python",
   "pygments_lexer": "ipython3",
   "version": "3.9.7"
  }
 },
 "nbformat": 4,
 "nbformat_minor": 5
}
